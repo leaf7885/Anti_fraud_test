{
 "cells": [
  {
   "cell_type": "code",
   "execution_count": 2,
   "metadata": {
    "scrolled": true
   },
   "outputs": [
    {
     "name": "stdout",
     "output_type": "stream",
     "text": [
      "['.ipynb_checkpoints', 'Anti_fraud_analyst_q1.ipynb', 'Anti_fraud_code', 'Anti_fraud_detection_q3.ipynb', 'creditcard', 'creditcard.csv.zip', 'ieee-fraud-detection', 'ieee-fraud-detection.zip', 'path', 'paysim_profile.html', 'PS_20174392719_1491204439457_log.csv', 'Untitled1.ipynb']\n"
     ]
    }
   ],
   "source": [
    "from mpl_toolkits.mplot3d import Axes3D\n",
    "from sklearn.preprocessing import StandardScaler\n",
    "import matplotlib.pyplot as plt # plotting\n",
    "import numpy as np # linear algebra\n",
    "import os # accessing directory structure\n",
    "import pandas as pd # data processing, CSV file I/O (e.g. pd.read_csv)\n",
    "print(os.listdir('.'))"
   ]
  },
  {
   "cell_type": "code",
   "execution_count": 4,
   "metadata": {},
   "outputs": [
    {
     "name": "stdout",
     "output_type": "stream",
     "text": [
      "   step      type    amount     nameOrig  oldBalanceOrig  newBalanceOrig  \\\n",
      "0     1   PAYMENT   9839.64  C1231006815        170136.0       160296.36   \n",
      "1     1   PAYMENT   1864.28  C1666544295         21249.0        19384.72   \n",
      "2     1  TRANSFER    181.00  C1305486145           181.0            0.00   \n",
      "3     1  CASH_OUT    181.00   C840083671           181.0            0.00   \n",
      "4     1   PAYMENT  11668.14  C2048537720         41554.0        29885.86   \n",
      "\n",
      "      nameDest  oldBalanceDest  newBalanceDest  isFraud  isFlaggedFraud  \n",
      "0  M1979787155             0.0             0.0        0               0  \n",
      "1  M2044282225             0.0             0.0        0               0  \n",
      "2   C553264065             0.0             0.0        1               0  \n",
      "3    C38997010         21182.0             0.0        1               0  \n",
      "4  M1230701703             0.0             0.0        0               0  \n"
     ]
    }
   ],
   "source": [
    "import warnings\n",
    "warnings.filterwarnings(\"ignore\", category=DeprecationWarning)\n",
    "\n",
    "df = pd.read_csv('PS_20174392719_1491204439457_log.csv')\n",
    "df = df.rename(columns={'oldbalanceOrg':'oldBalanceOrig', 'newbalanceOrig':'newBalanceOrig', \\\n",
    "                        'oldbalanceDest':'oldBalanceDest', 'newbalanceDest':'newBalanceDest'})\n",
    "print(df.head())\n",
    "\n",
    "#test for missing values \n",
    "df.isnull().values.any()\n",
    "\n",
    "#drop duplicates\n",
    "df = df.drop_duplicates()"
   ]
  },
  {
   "cell_type": "code",
   "execution_count": 6,
   "metadata": {},
   "outputs": [],
   "source": [
    "\n",
    "## DATA CLEANING\n",
    "#After reviewing the data we noted that fraud only occurs in 'TRANSFER's and 'CASH_OUT's. So we assemble only the corresponding data in X for analysis.\n",
    "\n",
    "X = df.loc[(df.type == 'TRANSFER') | (df.type == 'CASH_OUT')]\n",
    "\n",
    "randomState = 5\n",
    "np.random.seed(randomState)\n",
    "\n",
    "#X = X.loc[np.random.choice(X.index, 100000, replace = False)]\n",
    "\n",
    "Y = X['isFraud']\n",
    "del X['isFraud']\n",
    "\n",
    "# Eliminate columns shown to be irrelevant for analysis in the EDA\n",
    "X = X.drop(['nameOrig', 'nameDest', 'isFlaggedFraud'], axis = 1)\n",
    "\n",
    "# Binary-encoding of labelled data in 'type'\n",
    "X.loc[X.type == 'TRANSFER', 'type'] = 0\n",
    "X.loc[X.type == 'CASH_OUT', 'type'] = 1\n",
    "X.type = X.type.astype(int) # convert dtype('O') to dtype(int)\n",
    "\n",
    "#3.1. Imputation of Latent Missing Values\n",
    "#The data has several transactions with zero balances in the destination account both before and after a non-zero amount is transacted. The fraction of such transactions, where zero likely denotes a missing value, is much larger in fraudulent (50%) compared to genuine transactions (0.06%)."
   ]
  },
  {
   "cell_type": "code",
   "execution_count": 26,
   "metadata": {},
   "outputs": [
    {
     "name": "stdout",
     "output_type": "stream",
     "text": [
      "\n",
      "The fraction of fraudulent transactions with 'oldBalanceDest' = 'newBalanceDest' = 0 although the transacted 'amount' is non-zero is: 0.0\n",
      "\n",
      "The fraction of genuine transactions with 'oldBalanceDest' = newBalanceDest' = 0 although the transacted 'amount' is non-zero is: 0.0\n"
     ]
    }
   ],
   "source": [
    "Xfraud = X.loc[Y == 1]\n",
    "XnonFraud = X.loc[Y == 0]\n",
    "print('\\nThe fraction of fraudulent transactions with \\'oldBalanceDest\\' = \\\n",
    "\\'newBalanceDest\\' = 0 although the transacted \\'amount\\' is non-zero is: {}'.\\\n",
    "format(len(Xfraud.loc[(Xfraud.oldBalanceDest == 0) & \\\n",
    "(Xfraud.newBalanceDest == 0) & (Xfraud.amount)]) / (1.0 * len(Xfraud))))\n",
    "\n",
    "print('\\nThe fraction of genuine transactions with \\'oldBalanceDest\\' = \\\n",
    "newBalanceDest\\' = 0 although the transacted \\'amount\\' is non-zero is: {}'.\\\n",
    "format(len(XnonFraud.loc[(XnonFraud.oldBalanceDest == 0) & \\\n",
    "(XnonFraud.newBalanceDest == 0) & (XnonFraud.amount)]) / (1.0 * len(XnonFraud))))"
   ]
  },
  {
   "cell_type": "code",
   "execution_count": 28,
   "metadata": {},
   "outputs": [
    {
     "name": "stdout",
     "output_type": "stream",
     "text": [
      "\n",
      " The types of fraudulent transactions are ['TRANSFER', 'CASH_OUT']\n",
      "\n",
      " The number of fraudulent TRANSFERs = 4097\n",
      "\n",
      " The number of fraudulent CASH_OUTs = 4116\n"
     ]
    }
   ],
   "source": [
    "## look at the fraudulent transactions\n",
    "print('\\n The types of fraudulent transactions are {}'.format(\\\n",
    "list(df.loc[df.isFraud == 1].type.drop_duplicates().values))) # only 'CASH_OUT' \n",
    "                                                             # & 'TRANSFER'\n",
    "\n",
    "dfFraudTransfer = df.loc[(df.isFraud == 1) & (df.type == 'TRANSFER')]\n",
    "dfFraudCashout = df.loc[(df.isFraud == 1) & (df.type == 'CASH_OUT')]\n",
    "\n",
    "print ('\\n The number of fraudulent TRANSFERs = {}'.\\\n",
    "       format(len(dfFraudTransfer))) # 4097\n",
    "\n",
    "print ('\\n The number of fraudulent CASH_OUTs = {}'.\\\n",
    "       format(len(dfFraudCashout))) # 4116"
   ]
  },
  {
   "cell_type": "code",
   "execution_count": 30,
   "metadata": {},
   "outputs": [
    {
     "name": "stdout",
     "output_type": "stream",
     "text": [
      "\n",
      "The type of transactions in which isFlaggedFraud is set: ['TRANSFER']\n",
      "\n",
      "Min amount transacted when isFlaggedFraud is set= 353874.22\n",
      "\n",
      "Max amount transacted in a TRANSFER where isFlaggedFraud is not set= 92445516.64\n"
     ]
    }
   ],
   "source": [
    "## see if column is fraudulant is relevant \n",
    "print('\\nThe type of transactions in which isFlaggedFraud is set: \\\n",
    "{}'.format(list(df.loc[df.isFlaggedFraud == 1].type.drop_duplicates()))) \n",
    "                                                            # only 'TRANSFER'\n",
    "\n",
    "dfTransfer = df.loc[df.type == 'TRANSFER']\n",
    "dfFlagged = df.loc[df.isFlaggedFraud == 1]\n",
    "dfNotFlagged = df.loc[df.isFlaggedFraud == 0]\n",
    "\n",
    "print('\\nMin amount transacted when isFlaggedFraud is set= {}'\\\n",
    "                                  .format(dfFlagged.amount.min())) # 353874.22\n",
    "\n",
    "print('\\nMax amount transacted in a TRANSFER where isFlaggedFraud is not set=\\\n",
    " {}'.format(dfTransfer.loc[dfTransfer.isFlaggedFraud == 0].amount.max())) # 92445516.64"
   ]
  },
  {
   "cell_type": "code",
   "execution_count": 32,
   "metadata": {},
   "outputs": [
    {
     "name": "stdout",
     "output_type": "stream",
     "text": [
      "\n",
      "The fraction of fraudulent transactions with 'oldBalanceDest' = 'newBalanceDest' = 0 although the transacted 'amount' is non-zero is: 0.0\n",
      "\n",
      "The fraction of genuine transactions with 'oldBalanceDest' = newBalanceDest' = 0 although the transacted 'amount' is non-zero is: 0.0\n"
     ]
    }
   ],
   "source": [
    "#Imputation of Latent Missing Values¶\n",
    "#The data has several transactions with zero balances in the destination account both before and after a non-zero amount is transacted. The fraction of such transactions, where zero likely denotes a missing value, is much larger in fraudulent (50%) compared to genuine transactions (0.06%).\n",
    "Xfraud = X.loc[Y == 1]\n",
    "XnonFraud = X.loc[Y == 0]\n",
    "print('\\nThe fraction of fraudulent transactions with \\'oldBalanceDest\\' = \\\n",
    "\\'newBalanceDest\\' = 0 although the transacted \\'amount\\' is non-zero is: {}'.\\\n",
    "format(len(Xfraud.loc[(Xfraud.oldBalanceDest == 0) & \\\n",
    "(Xfraud.newBalanceDest == 0) & (Xfraud.amount)]) / (1.0 * len(Xfraud))))\n",
    "\n",
    "print('\\nThe fraction of genuine transactions with \\'oldBalanceDest\\' = \\\n",
    "newBalanceDest\\' = 0 although the transacted \\'amount\\' is non-zero is: {}'.\\\n",
    "format(len(XnonFraud.loc[(XnonFraud.oldBalanceDest == 0) & \\\n",
    "(XnonFraud.newBalanceDest == 0) & (XnonFraud.amount)]) / (1.0 * len(XnonFraud))))"
   ]
  },
  {
   "cell_type": "code",
   "execution_count": 34,
   "metadata": {},
   "outputs": [],
   "source": [
    "#Since the destination account balances being zero is a strong indicator of fraud, we do not impute the account balance (before the transaction is made) with a statistic or from a distribution with a subsequent adjustment for the amount transacted. Doing so would mask this indicator of fraud and make fraudulent transactions appear genuine. Instead, below we replace the value of 0 with -1 which will be more useful to a suitable machine-learning (ML) algorithm detecting fraud.\n",
    "X.loc[(X.oldBalanceDest == 0) & (X.newBalanceDest == 0) & (X.amount != 0), \\\n",
    "      ['oldBalanceDest', 'newBalanceDest']] = - 1"
   ]
  },
  {
   "cell_type": "code",
   "execution_count": 36,
   "metadata": {},
   "outputs": [],
   "source": [
    "#The data also has several transactions with zero balances in the originating account both before and after a non-zero amount is transacted. In this case, the fraction of such transactions is much smaller in fraudulent (0.3%) compared to genuine transactions (47%). Once again, from similar reasoning as above, instead of imputing a numerical value we replace the value of 0 with a null value.\n",
    "X.loc[(X.oldBalanceOrig == 0) & (X.newBalanceOrig == 0) & (X.amount != 0), \\\n",
    "      ['oldBalanceOrig', 'newBalanceOrig']] = np.nan"
   ]
  },
  {
   "cell_type": "code",
   "execution_count": 70,
   "metadata": {},
   "outputs": [
    {
     "ename": "ValueError",
     "evalue": "Can only compare identically-labeled Series objects",
     "output_type": "error",
     "traceback": [
      "\u001b[1;31m---------------------------------------------------------------------------\u001b[0m",
      "\u001b[1;31mValueError\u001b[0m                                Traceback (most recent call last)",
      "Cell \u001b[1;32mIn[70], line 10\u001b[0m\n\u001b[0;32m      6\u001b[0m X[\u001b[38;5;124m'\u001b[39m\u001b[38;5;124merrorBalanceDest\u001b[39m\u001b[38;5;124m'\u001b[39m] \u001b[38;5;241m=\u001b[39m X\u001b[38;5;241m.\u001b[39moldBalanceDest \u001b[38;5;241m+\u001b[39m X\u001b[38;5;241m.\u001b[39mamount \u001b[38;5;241m-\u001b[39m X\u001b[38;5;241m.\u001b[39mnewBalanceDest\n\u001b[0;32m      8\u001b[0m \u001b[38;5;66;03m#Column Validation: Ensure balances align:\u001b[39;00m\n\u001b[0;32m      9\u001b[0m invalid_balances \u001b[38;5;241m=\u001b[39m X[\n\u001b[1;32m---> 10\u001b[0m     X[\u001b[38;5;124m'\u001b[39m\u001b[38;5;124moldBalanceOrig\u001b[39m\u001b[38;5;124m'\u001b[39m] \u001b[38;5;241m-\u001b[39m X[\u001b[38;5;124m'\u001b[39m\u001b[38;5;124mamount\u001b[39m\u001b[38;5;124m'\u001b[39m] \u001b[38;5;241m!=\u001b[39m df[\u001b[38;5;124m'\u001b[39m\u001b[38;5;124mnewBalanceOrig\u001b[39m\u001b[38;5;124m'\u001b[39m]\n\u001b[0;32m     11\u001b[0m ]\n\u001b[0;32m     12\u001b[0m \u001b[38;5;28mprint\u001b[39m(\u001b[38;5;124mf\u001b[39m\u001b[38;5;124m\"\u001b[39m\u001b[38;5;124mInvalid rows: \u001b[39m\u001b[38;5;132;01m{\u001b[39;00m\u001b[38;5;28mlen\u001b[39m(invalid_balances)\u001b[38;5;132;01m}\u001b[39;00m\u001b[38;5;124m\"\u001b[39m)\n",
      "File \u001b[1;32m~\\anaconda3\\Lib\\site-packages\\pandas\\core\\ops\\common.py:76\u001b[0m, in \u001b[0;36m_unpack_zerodim_and_defer.<locals>.new_method\u001b[1;34m(self, other)\u001b[0m\n\u001b[0;32m     72\u001b[0m             \u001b[38;5;28;01mreturn\u001b[39;00m \u001b[38;5;28mNotImplemented\u001b[39m\n\u001b[0;32m     74\u001b[0m other \u001b[38;5;241m=\u001b[39m item_from_zerodim(other)\n\u001b[1;32m---> 76\u001b[0m \u001b[38;5;28;01mreturn\u001b[39;00m method(\u001b[38;5;28mself\u001b[39m, other)\n",
      "File \u001b[1;32m~\\anaconda3\\Lib\\site-packages\\pandas\\core\\arraylike.py:44\u001b[0m, in \u001b[0;36mOpsMixin.__ne__\u001b[1;34m(self, other)\u001b[0m\n\u001b[0;32m     42\u001b[0m \u001b[38;5;129m@unpack_zerodim_and_defer\u001b[39m(\u001b[38;5;124m\"\u001b[39m\u001b[38;5;124m__ne__\u001b[39m\u001b[38;5;124m\"\u001b[39m)\n\u001b[0;32m     43\u001b[0m \u001b[38;5;28;01mdef\u001b[39;00m \u001b[38;5;21m__ne__\u001b[39m(\u001b[38;5;28mself\u001b[39m, other):\n\u001b[1;32m---> 44\u001b[0m     \u001b[38;5;28;01mreturn\u001b[39;00m \u001b[38;5;28mself\u001b[39m\u001b[38;5;241m.\u001b[39m_cmp_method(other, operator\u001b[38;5;241m.\u001b[39mne)\n",
      "File \u001b[1;32m~\\anaconda3\\Lib\\site-packages\\pandas\\core\\series.py:6114\u001b[0m, in \u001b[0;36mSeries._cmp_method\u001b[1;34m(self, other, op)\u001b[0m\n\u001b[0;32m   6111\u001b[0m res_name \u001b[38;5;241m=\u001b[39m ops\u001b[38;5;241m.\u001b[39mget_op_result_name(\u001b[38;5;28mself\u001b[39m, other)\n\u001b[0;32m   6113\u001b[0m \u001b[38;5;28;01mif\u001b[39;00m \u001b[38;5;28misinstance\u001b[39m(other, Series) \u001b[38;5;129;01mand\u001b[39;00m \u001b[38;5;129;01mnot\u001b[39;00m \u001b[38;5;28mself\u001b[39m\u001b[38;5;241m.\u001b[39m_indexed_same(other):\n\u001b[1;32m-> 6114\u001b[0m     \u001b[38;5;28;01mraise\u001b[39;00m \u001b[38;5;167;01mValueError\u001b[39;00m(\u001b[38;5;124m\"\u001b[39m\u001b[38;5;124mCan only compare identically-labeled Series objects\u001b[39m\u001b[38;5;124m\"\u001b[39m)\n\u001b[0;32m   6116\u001b[0m lvalues \u001b[38;5;241m=\u001b[39m \u001b[38;5;28mself\u001b[39m\u001b[38;5;241m.\u001b[39m_values\n\u001b[0;32m   6117\u001b[0m rvalues \u001b[38;5;241m=\u001b[39m extract_array(other, extract_numpy\u001b[38;5;241m=\u001b[39m\u001b[38;5;28;01mTrue\u001b[39;00m, extract_range\u001b[38;5;241m=\u001b[39m\u001b[38;5;28;01mTrue\u001b[39;00m)\n",
      "\u001b[1;31mValueError\u001b[0m: Can only compare identically-labeled Series objects"
     ]
    }
   ],
   "source": [
    "#4. Feature-engineering\n",
    "#Motivated by the possibility of zero-balances serving to differentiate between fraudulent and genuine transactions, we take the data-imputation of section 3.1 a step further and create 2 new features (columns) recording errors in the originating and destination accounts for each transaction. These new features turn out to be important in obtaining the best performance from the ML algorithm that we will finally use.\n",
    "\n",
    "\n",
    "X['errorBalanceOrig'] = X.newBalanceOrig + X.amount - X.oldBalanceOrig\n",
    "X['errorBalanceDest'] = X.oldBalanceDest + X.amount - X.newBalanceDest\n",
    "\n"
   ]
  },
  {
   "cell_type": "code",
   "execution_count": 54,
   "metadata": {},
   "outputs": [
    {
     "data": {
      "text/html": [
       "<div>\n",
       "<style scoped>\n",
       "    .dataframe tbody tr th:only-of-type {\n",
       "        vertical-align: middle;\n",
       "    }\n",
       "\n",
       "    .dataframe tbody tr th {\n",
       "        vertical-align: top;\n",
       "    }\n",
       "\n",
       "    .dataframe thead th {\n",
       "        text-align: right;\n",
       "    }\n",
       "</style>\n",
       "<table border=\"1\" class=\"dataframe\">\n",
       "  <thead>\n",
       "    <tr style=\"text-align: right;\">\n",
       "      <th></th>\n",
       "      <th>step</th>\n",
       "      <th>type</th>\n",
       "      <th>amount</th>\n",
       "      <th>oldBalanceOrig</th>\n",
       "      <th>newBalanceOrig</th>\n",
       "      <th>oldBalanceDest</th>\n",
       "      <th>newBalanceDest</th>\n",
       "      <th>errorBalanceOrig</th>\n",
       "      <th>errorBalanceDest</th>\n",
       "    </tr>\n",
       "  </thead>\n",
       "  <tbody>\n",
       "    <tr>\n",
       "      <th>2</th>\n",
       "      <td>1</td>\n",
       "      <td>0</td>\n",
       "      <td>181.0</td>\n",
       "      <td>181.0</td>\n",
       "      <td>0.0</td>\n",
       "      <td>-1.0</td>\n",
       "      <td>-1.0</td>\n",
       "      <td>0.0</td>\n",
       "      <td>181.0</td>\n",
       "    </tr>\n",
       "    <tr>\n",
       "      <th>3</th>\n",
       "      <td>1</td>\n",
       "      <td>1</td>\n",
       "      <td>181.0</td>\n",
       "      <td>181.0</td>\n",
       "      <td>0.0</td>\n",
       "      <td>21182.0</td>\n",
       "      <td>0.0</td>\n",
       "      <td>0.0</td>\n",
       "      <td>21363.0</td>\n",
       "    </tr>\n",
       "    <tr>\n",
       "      <th>251</th>\n",
       "      <td>1</td>\n",
       "      <td>0</td>\n",
       "      <td>2806.0</td>\n",
       "      <td>2806.0</td>\n",
       "      <td>0.0</td>\n",
       "      <td>-1.0</td>\n",
       "      <td>-1.0</td>\n",
       "      <td>0.0</td>\n",
       "      <td>2806.0</td>\n",
       "    </tr>\n",
       "    <tr>\n",
       "      <th>252</th>\n",
       "      <td>1</td>\n",
       "      <td>1</td>\n",
       "      <td>2806.0</td>\n",
       "      <td>2806.0</td>\n",
       "      <td>0.0</td>\n",
       "      <td>26202.0</td>\n",
       "      <td>0.0</td>\n",
       "      <td>0.0</td>\n",
       "      <td>29008.0</td>\n",
       "    </tr>\n",
       "    <tr>\n",
       "      <th>680</th>\n",
       "      <td>1</td>\n",
       "      <td>0</td>\n",
       "      <td>20128.0</td>\n",
       "      <td>20128.0</td>\n",
       "      <td>0.0</td>\n",
       "      <td>-1.0</td>\n",
       "      <td>-1.0</td>\n",
       "      <td>0.0</td>\n",
       "      <td>20128.0</td>\n",
       "    </tr>\n",
       "  </tbody>\n",
       "</table>\n",
       "</div>"
      ],
      "text/plain": [
       "     step  type   amount  oldBalanceOrig  newBalanceOrig  oldBalanceDest  \\\n",
       "2       1     0    181.0           181.0             0.0            -1.0   \n",
       "3       1     1    181.0           181.0             0.0         21182.0   \n",
       "251     1     0   2806.0          2806.0             0.0            -1.0   \n",
       "252     1     1   2806.0          2806.0             0.0         26202.0   \n",
       "680     1     0  20128.0         20128.0             0.0            -1.0   \n",
       "\n",
       "     newBalanceDest  errorBalanceOrig  errorBalanceDest  \n",
       "2              -1.0               0.0             181.0  \n",
       "3               0.0               0.0           21363.0  \n",
       "251            -1.0               0.0            2806.0  \n",
       "252             0.0               0.0           29008.0  \n",
       "680            -1.0               0.0           20128.0  "
      ]
     },
     "execution_count": 54,
     "metadata": {},
     "output_type": "execute_result"
    }
   ],
   "source": [
    "Xfraud.head()"
   ]
  },
  {
   "cell_type": "code",
   "execution_count": 42,
   "metadata": {},
   "outputs": [],
   "source": [
    "#currency conversion \n",
    "#conversion_rate = 0.85  # Example: USD to EUR\n",
    "#data['amount_converted'] = data['amount'] * conversion_rate\n"
   ]
  },
  {
   "cell_type": "code",
   "execution_count": 44,
   "metadata": {},
   "outputs": [],
   "source": [
    "#amount is expressed in the local currency yet the data origin and location is not provided"
   ]
  },
  {
   "cell_type": "code",
   "execution_count": 56,
   "metadata": {},
   "outputs": [],
   "source": [
    "#Timestamp Standardization:\n",
    "#Convert timestamps into a readable format. We're choosing an arbitrary start date\n",
    "df['step_datetime'] = pd.to_timedelta(df['step'], unit='h') + pd.Timestamp('2022-01-01')\n"
   ]
  },
  {
   "cell_type": "code",
   "execution_count": 58,
   "metadata": {},
   "outputs": [
    {
     "name": "stdout",
     "output_type": "stream",
     "text": [
      "   step      type    amount     nameOrig  oldBalanceOrig  newBalanceOrig  \\\n",
      "0     1   PAYMENT   9839.64  C1231006815        170136.0       160296.36   \n",
      "1     1   PAYMENT   1864.28  C1666544295         21249.0        19384.72   \n",
      "2     1  TRANSFER    181.00  C1305486145           181.0            0.00   \n",
      "3     1  CASH_OUT    181.00   C840083671           181.0            0.00   \n",
      "4     1   PAYMENT  11668.14  C2048537720         41554.0        29885.86   \n",
      "\n",
      "      nameDest  oldBalanceDest  newBalanceDest  isFraud  isFlaggedFraud  \\\n",
      "0  M1979787155             0.0             0.0        0               0   \n",
      "1  M2044282225             0.0             0.0        0               0   \n",
      "2   C553264065             0.0             0.0        1               0   \n",
      "3    C38997010         21182.0             0.0        1               0   \n",
      "4  M1230701703             0.0             0.0        0               0   \n",
      "\n",
      "        step_datetime  \n",
      "0 2022-01-01 01:00:00  \n",
      "1 2022-01-01 01:00:00  \n",
      "2 2022-01-01 01:00:00  \n",
      "3 2022-01-01 01:00:00  \n",
      "4 2022-01-01 01:00:00  \n"
     ]
    }
   ],
   "source": [
    "print(df.head())"
   ]
  },
  {
   "cell_type": "code",
   "execution_count": 60,
   "metadata": {},
   "outputs": [],
   "source": [
    "#Feature Engineering: Create derived features, such as transaction type counts\n",
    "df['isFraud_binary'] = df['isFraud'].apply(lambda x: 1 if x == 1 else 0)\n"
   ]
  },
  {
   "cell_type": "code",
   "execution_count": 20,
   "metadata": {},
   "outputs": [],
   "source": [
    "#Step 4: Aggregation\n",
    "#Aggregate data at different intervals (e.g., daily, hourly):\n",
    "# Daily aggregation of total amounts and fraud cases\n",
    "daily_summary = data.groupby(data['step_datetime'].dt.date).agg(\n",
    "    total_transactions=('amount', 'count'),\n",
    "    total_fraud_cases=('isFraud_binary', 'sum'),\n",
    "    total_amount=('amount', 'sum')\n",
    ").reset_index()\n"
   ]
  },
  {
   "cell_type": "code",
   "execution_count": 62,
   "metadata": {
    "jupyter": {
     "source_hidden": true
    }
   },
   "outputs": [
    {
     "name": "stdout",
     "output_type": "stream",
     "text": [
      "step              0\n",
      "type              0\n",
      "amount            0\n",
      "nameOrig          0\n",
      "oldBalanceOrig    0\n",
      "newBalanceOrig    0\n",
      "nameDest          0\n",
      "oldBalanceDest    0\n",
      "newBalanceDest    0\n",
      "isFraud           0\n",
      "isFlaggedFraud    0\n",
      "step_datetime     0\n",
      "isFraud_binary    0\n",
      "dtype: int64\n"
     ]
    }
   ],
   "source": [
    "#Step 5: Data Quality Checks\n",
    "#Null Values Check:\n",
    "print(df.isnull().sum())\n"
   ]
  },
  {
   "cell_type": "code",
   "execution_count": 78,
   "metadata": {},
   "outputs": [
    {
     "data": {
      "text/html": [
       "<div>\n",
       "<style scoped>\n",
       "    .dataframe tbody tr th:only-of-type {\n",
       "        vertical-align: middle;\n",
       "    }\n",
       "\n",
       "    .dataframe tbody tr th {\n",
       "        vertical-align: top;\n",
       "    }\n",
       "\n",
       "    .dataframe thead th {\n",
       "        text-align: right;\n",
       "    }\n",
       "</style>\n",
       "<table border=\"1\" class=\"dataframe\">\n",
       "  <thead>\n",
       "    <tr style=\"text-align: right;\">\n",
       "      <th></th>\n",
       "      <th>step</th>\n",
       "      <th>type</th>\n",
       "      <th>amount</th>\n",
       "      <th>oldBalanceOrig</th>\n",
       "      <th>newBalanceOrig</th>\n",
       "      <th>oldBalanceDest</th>\n",
       "      <th>newBalanceDest</th>\n",
       "      <th>errorBalanceOrig</th>\n",
       "      <th>errorBalanceDest</th>\n",
       "      <th>step_datetime</th>\n",
       "    </tr>\n",
       "  </thead>\n",
       "  <tbody>\n",
       "    <tr>\n",
       "      <th>2</th>\n",
       "      <td>1</td>\n",
       "      <td>0</td>\n",
       "      <td>181.00</td>\n",
       "      <td>181.0</td>\n",
       "      <td>0.0</td>\n",
       "      <td>-1.0</td>\n",
       "      <td>-1.00</td>\n",
       "      <td>0.00</td>\n",
       "      <td>181.0</td>\n",
       "      <td>2022-01-01 01:00:00</td>\n",
       "    </tr>\n",
       "    <tr>\n",
       "      <th>3</th>\n",
       "      <td>1</td>\n",
       "      <td>1</td>\n",
       "      <td>181.00</td>\n",
       "      <td>181.0</td>\n",
       "      <td>0.0</td>\n",
       "      <td>21182.0</td>\n",
       "      <td>0.00</td>\n",
       "      <td>0.00</td>\n",
       "      <td>21363.0</td>\n",
       "      <td>2022-01-01 01:00:00</td>\n",
       "    </tr>\n",
       "    <tr>\n",
       "      <th>15</th>\n",
       "      <td>1</td>\n",
       "      <td>1</td>\n",
       "      <td>229133.94</td>\n",
       "      <td>15325.0</td>\n",
       "      <td>0.0</td>\n",
       "      <td>5083.0</td>\n",
       "      <td>51513.44</td>\n",
       "      <td>213808.94</td>\n",
       "      <td>182703.5</td>\n",
       "      <td>2022-01-01 01:00:00</td>\n",
       "    </tr>\n",
       "    <tr>\n",
       "      <th>19</th>\n",
       "      <td>1</td>\n",
       "      <td>0</td>\n",
       "      <td>215310.30</td>\n",
       "      <td>705.0</td>\n",
       "      <td>0.0</td>\n",
       "      <td>22425.0</td>\n",
       "      <td>0.00</td>\n",
       "      <td>214605.30</td>\n",
       "      <td>237735.3</td>\n",
       "      <td>2022-01-01 01:00:00</td>\n",
       "    </tr>\n",
       "    <tr>\n",
       "      <th>24</th>\n",
       "      <td>1</td>\n",
       "      <td>0</td>\n",
       "      <td>311685.89</td>\n",
       "      <td>10835.0</td>\n",
       "      <td>0.0</td>\n",
       "      <td>6267.0</td>\n",
       "      <td>2719172.89</td>\n",
       "      <td>300850.89</td>\n",
       "      <td>-2401220.0</td>\n",
       "      <td>2022-01-01 01:00:00</td>\n",
       "    </tr>\n",
       "  </tbody>\n",
       "</table>\n",
       "</div>"
      ],
      "text/plain": [
       "    step  type     amount  oldBalanceOrig  newBalanceOrig  oldBalanceDest  \\\n",
       "2      1     0     181.00           181.0             0.0            -1.0   \n",
       "3      1     1     181.00           181.0             0.0         21182.0   \n",
       "15     1     1  229133.94         15325.0             0.0          5083.0   \n",
       "19     1     0  215310.30           705.0             0.0         22425.0   \n",
       "24     1     0  311685.89         10835.0             0.0          6267.0   \n",
       "\n",
       "    newBalanceDest  errorBalanceOrig  errorBalanceDest       step_datetime  \n",
       "2            -1.00              0.00             181.0 2022-01-01 01:00:00  \n",
       "3             0.00              0.00           21363.0 2022-01-01 01:00:00  \n",
       "15        51513.44         213808.94          182703.5 2022-01-01 01:00:00  \n",
       "19            0.00         214605.30          237735.3 2022-01-01 01:00:00  \n",
       "24      2719172.89         300850.89        -2401220.0 2022-01-01 01:00:00  "
      ]
     },
     "execution_count": 78,
     "metadata": {},
     "output_type": "execute_result"
    }
   ],
   "source": [
    "X.head()"
   ]
  },
  {
   "cell_type": "code",
   "execution_count": 80,
   "metadata": {},
   "outputs": [
    {
     "ename": "NameError",
     "evalue": "name 'data' is not defined",
     "output_type": "error",
     "traceback": [
      "\u001b[1;31m---------------------------------------------------------------------------\u001b[0m",
      "\u001b[1;31mNameError\u001b[0m                                 Traceback (most recent call last)",
      "Cell \u001b[1;32mIn[80], line 2\u001b[0m\n\u001b[0;32m      1\u001b[0m \u001b[38;5;66;03m#Column Validation: Ensure balances align:\u001b[39;00m\n\u001b[1;32m----> 2\u001b[0m invalid_balances \u001b[38;5;241m=\u001b[39m X[X[\u001b[38;5;124m'\u001b[39m\u001b[38;5;124moldBalanceOrig\u001b[39m\u001b[38;5;124m'\u001b[39m] \u001b[38;5;241m-\u001b[39m data[\u001b[38;5;124m'\u001b[39m\u001b[38;5;124mamount\u001b[39m\u001b[38;5;124m'\u001b[39m] \u001b[38;5;241m!=\u001b[39m data[\u001b[38;5;124m'\u001b[39m\u001b[38;5;124mnewBalanceOrig\u001b[39m\u001b[38;5;124m'\u001b[39m]]\n\u001b[0;32m      3\u001b[0m \u001b[38;5;28mprint\u001b[39m(\u001b[38;5;124mf\u001b[39m\u001b[38;5;124m\"\u001b[39m\u001b[38;5;124mInvalid rows: \u001b[39m\u001b[38;5;132;01m{\u001b[39;00m\u001b[38;5;28mlen\u001b[39m(invalid_balances)\u001b[38;5;132;01m}\u001b[39;00m\u001b[38;5;124m\"\u001b[39m)\n",
      "\u001b[1;31mNameError\u001b[0m: name 'data' is not defined"
     ]
    }
   ],
   "source": [
    "#Column Validation: Ensure balances align:\n",
    "invalid_balances = X[X['oldBalanceOrig'] - data['amount'] != data['newBalanceOrig']]\n",
    "print(f\"Invalid rows: {len(invalid_balances)}\")\n"
   ]
  },
  {
   "cell_type": "code",
   "execution_count": 84,
   "metadata": {},
   "outputs": [
    {
     "name": "stdout",
     "output_type": "stream",
     "text": [
      "0\n"
     ]
    }
   ],
   "source": [
    "#duplicate check\n",
    "print(df.duplicated().sum())\n"
   ]
  },
  {
   "cell_type": "code",
   "execution_count": 85,
   "metadata": {},
   "outputs": [
    {
     "name": "stdout",
     "output_type": "stream",
     "text": [
      "               step        amount  oldBalanceOrig  newBalanceOrig  \\\n",
      "count  6.362620e+06  6.362620e+06    6.362620e+06    6.362620e+06   \n",
      "mean   2.433972e+02  1.798619e+05    8.338831e+05    8.551137e+05   \n",
      "min    1.000000e+00  0.000000e+00    0.000000e+00    0.000000e+00   \n",
      "25%    1.560000e+02  1.338957e+04    0.000000e+00    0.000000e+00   \n",
      "50%    2.390000e+02  7.487194e+04    1.420800e+04    0.000000e+00   \n",
      "75%    3.350000e+02  2.087215e+05    1.073152e+05    1.442584e+05   \n",
      "max    7.430000e+02  9.244552e+07    5.958504e+07    4.958504e+07   \n",
      "std    1.423320e+02  6.038582e+05    2.888243e+06    2.924049e+06   \n",
      "\n",
      "       oldBalanceDest  newBalanceDest       isFraud  isFlaggedFraud  \\\n",
      "count    6.362620e+06    6.362620e+06  6.362620e+06    6.362620e+06   \n",
      "mean     1.100702e+06    1.224996e+06  1.290820e-03    2.514687e-06   \n",
      "min      0.000000e+00    0.000000e+00  0.000000e+00    0.000000e+00   \n",
      "25%      0.000000e+00    0.000000e+00  0.000000e+00    0.000000e+00   \n",
      "50%      1.327057e+05    2.146614e+05  0.000000e+00    0.000000e+00   \n",
      "75%      9.430367e+05    1.111909e+06  0.000000e+00    0.000000e+00   \n",
      "max      3.560159e+08    3.561793e+08  1.000000e+00    1.000000e+00   \n",
      "std      3.399180e+06    3.674129e+06  3.590480e-02    1.585775e-03   \n",
      "\n",
      "                       step_datetime  isFraud_binary  \n",
      "count                        6362620    6.362620e+06  \n",
      "mean   2022-01-11 03:23:50.084272128    1.290820e-03  \n",
      "min              2022-01-01 01:00:00    0.000000e+00  \n",
      "25%              2022-01-07 12:00:00    0.000000e+00  \n",
      "50%              2022-01-10 23:00:00    0.000000e+00  \n",
      "75%              2022-01-14 23:00:00    0.000000e+00  \n",
      "max              2022-01-31 23:00:00    1.000000e+00  \n",
      "std                              NaN    3.590480e-02  \n"
     ]
    }
   ],
   "source": [
    "#Step 6: Summary Statistics and Data Profiling\n",
    "#Generate profiling reports for insights into the dataset:\n",
    "#Summary Statistics:\n",
    "print(df.describe())\n"
   ]
  },
  {
   "cell_type": "code",
   "execution_count": 88,
   "metadata": {},
   "outputs": [
    {
     "name": "stdout",
     "output_type": "stream",
     "text": [
      "Fraud Rate: 0.13%\n"
     ]
    }
   ],
   "source": [
    "#fraud rate\n",
    "fraud_rate = df['isFraud'].mean() * 100\n",
    "print(f\"Fraud Rate: {fraud_rate:.2f}%\")\n"
   ]
  },
  {
   "cell_type": "code",
   "execution_count": 19,
   "metadata": {},
   "outputs": [
    {
     "name": "stdout",
     "output_type": "stream",
     "text": [
      "Requirement already satisfied: pandas-profiling in c:\\users\\lea\\anaconda3\\envs\\tensorflow_cpu\\lib\\site-packages (3.1.0)\n",
      "Requirement already satisfied: tqdm>=4.48.2 in c:\\users\\lea\\anaconda3\\envs\\tensorflow_cpu\\lib\\site-packages (from pandas-profiling) (4.64.1)\n",
      "Requirement already satisfied: htmlmin>=0.1.12 in c:\\users\\lea\\anaconda3\\envs\\tensorflow_cpu\\lib\\site-packages (from pandas-profiling) (0.1.12)\n",
      "Requirement already satisfied: phik>=0.11.1 in c:\\users\\lea\\anaconda3\\envs\\tensorflow_cpu\\lib\\site-packages (from pandas-profiling) (0.12.0)\n",
      "Requirement already satisfied: tangled-up-in-unicode==0.1.0 in c:\\users\\lea\\anaconda3\\envs\\tensorflow_cpu\\lib\\site-packages (from pandas-profiling) (0.1.0)\n",
      "Requirement already satisfied: scipy>=1.4.1 in c:\\users\\lea\\anaconda3\\envs\\tensorflow_cpu\\lib\\site-packages (from pandas-profiling) (1.5.4)\n",
      "Requirement already satisfied: pydantic>=1.8.1 in c:\\users\\lea\\anaconda3\\envs\\tensorflow_cpu\\lib\\site-packages (from pandas-profiling) (1.9.2)\n",
      "Requirement already satisfied: pandas!=1.0.0,!=1.0.1,!=1.0.2,!=1.1.0,>=0.25.3 in c:\\users\\lea\\anaconda3\\envs\\tensorflow_cpu\\lib\\site-packages (from pandas-profiling) (0.25.3)\n",
      "Requirement already satisfied: numpy>=1.16.0 in c:\\users\\lea\\anaconda3\\envs\\tensorflow_cpu\\lib\\site-packages (from pandas-profiling) (1.19.5)\n",
      "Requirement already satisfied: multimethod>=1.4 in c:\\users\\lea\\anaconda3\\envs\\tensorflow_cpu\\lib\\site-packages (from pandas-profiling) (1.5)\n",
      "Requirement already satisfied: joblib~=1.0.1 in c:\\users\\lea\\anaconda3\\envs\\tensorflow_cpu\\lib\\site-packages (from pandas-profiling) (1.0.1)\n",
      "Requirement already satisfied: matplotlib>=3.2.0 in c:\\users\\lea\\anaconda3\\envs\\tensorflow_cpu\\lib\\site-packages (from pandas-profiling) (3.3.4)\n",
      "Requirement already satisfied: markupsafe~=2.0.1 in c:\\users\\lea\\anaconda3\\envs\\tensorflow_cpu\\lib\\site-packages (from pandas-profiling) (2.0.1)\n",
      "Requirement already satisfied: missingno>=0.4.2 in c:\\users\\lea\\anaconda3\\envs\\tensorflow_cpu\\lib\\site-packages (from pandas-profiling) (0.5.2)\n",
      "Requirement already satisfied: jinja2>=2.11.1 in c:\\users\\lea\\anaconda3\\envs\\tensorflow_cpu\\lib\\site-packages (from pandas-profiling) (3.0.3)\n",
      "Requirement already satisfied: seaborn>=0.10.1 in c:\\users\\lea\\anaconda3\\envs\\tensorflow_cpu\\lib\\site-packages (from pandas-profiling) (0.11.2)\n",
      "Requirement already satisfied: visions[type_image_path]==0.7.4 in c:\\users\\lea\\anaconda3\\envs\\tensorflow_cpu\\lib\\site-packages (from pandas-profiling) (0.7.4)\n",
      "Requirement already satisfied: PyYAML>=5.0.0 in c:\\users\\lea\\anaconda3\\envs\\tensorflow_cpu\\lib\\site-packages (from pandas-profiling) (5.1.2)\n",
      "Requirement already satisfied: requests>=2.24.0 in c:\\users\\lea\\anaconda3\\envs\\tensorflow_cpu\\lib\\site-packages (from pandas-profiling) (2.27.1)\n",
      "Requirement already satisfied: networkx>=2.4 in c:\\users\\lea\\anaconda3\\envs\\tensorflow_cpu\\lib\\site-packages (from visions[type_image_path]==0.7.4->pandas-profiling) (2.5.1)\n",
      "Requirement already satisfied: attrs>=19.3.0 in c:\\users\\lea\\anaconda3\\envs\\tensorflow_cpu\\lib\\site-packages (from visions[type_image_path]==0.7.4->pandas-profiling) (19.3.0)\n",
      "Requirement already satisfied: Pillow in c:\\users\\lea\\anaconda3\\envs\\tensorflow_cpu\\lib\\site-packages (from visions[type_image_path]==0.7.4->pandas-profiling) (8.4.0)\n",
      "Requirement already satisfied: imagehash in c:\\users\\lea\\anaconda3\\envs\\tensorflow_cpu\\lib\\site-packages (from visions[type_image_path]==0.7.4->pandas-profiling) (4.3.1)\n",
      "Requirement already satisfied: kiwisolver>=1.0.1 in c:\\users\\lea\\anaconda3\\envs\\tensorflow_cpu\\lib\\site-packages (from matplotlib>=3.2.0->pandas-profiling) (1.1.0)\n",
      "Requirement already satisfied: pyparsing!=2.0.4,!=2.1.2,!=2.1.6,>=2.0.3 in c:\\users\\lea\\anaconda3\\envs\\tensorflow_cpu\\lib\\site-packages (from matplotlib>=3.2.0->pandas-profiling) (2.4.5)\n",
      "Requirement already satisfied: cycler>=0.10 in c:\\users\\lea\\anaconda3\\envs\\tensorflow_cpu\\lib\\site-packages (from matplotlib>=3.2.0->pandas-profiling) (0.10.0)\n",
      "Requirement already satisfied: python-dateutil>=2.1 in c:\\users\\lea\\anaconda3\\envs\\tensorflow_cpu\\lib\\site-packages (from matplotlib>=3.2.0->pandas-profiling) (2.8.1)\n",
      "Requirement already satisfied: pytz>=2017.2 in c:\\users\\lea\\anaconda3\\envs\\tensorflow_cpu\\lib\\site-packages (from pandas!=1.0.0,!=1.0.1,!=1.0.2,!=1.1.0,>=0.25.3->pandas-profiling) (2019.3)\n",
      "Requirement already satisfied: typing-extensions>=3.7.4.3 in c:\\users\\lea\\anaconda3\\envs\\tensorflow_cpu\\lib\\site-packages (from pydantic>=1.8.1->pandas-profiling) (4.1.1)\n",
      "Requirement already satisfied: dataclasses>=0.6 in c:\\users\\lea\\anaconda3\\envs\\tensorflow_cpu\\lib\\site-packages (from pydantic>=1.8.1->pandas-profiling) (0.8)\n",
      "Requirement already satisfied: idna<4,>=2.5 in c:\\users\\lea\\anaconda3\\envs\\tensorflow_cpu\\lib\\site-packages (from requests>=2.24.0->pandas-profiling) (3.10)\n",
      "Requirement already satisfied: certifi>=2017.4.17 in c:\\users\\lea\\anaconda3\\envs\\tensorflow_cpu\\lib\\site-packages (from requests>=2.24.0->pandas-profiling) (2019.11.28)\n",
      "Requirement already satisfied: charset-normalizer~=2.0.0 in c:\\users\\lea\\anaconda3\\envs\\tensorflow_cpu\\lib\\site-packages (from requests>=2.24.0->pandas-profiling) (2.0.12)\n",
      "Requirement already satisfied: urllib3<1.27,>=1.21.1 in c:\\users\\lea\\anaconda3\\envs\\tensorflow_cpu\\lib\\site-packages (from requests>=2.24.0->pandas-profiling) (1.26.20)\n",
      "Requirement already satisfied: colorama in c:\\users\\lea\\anaconda3\\envs\\tensorflow_cpu\\lib\\site-packages (from tqdm>=4.48.2->pandas-profiling) (0.4.1)\n",
      "Requirement already satisfied: importlib-resources in c:\\users\\lea\\anaconda3\\envs\\tensorflow_cpu\\lib\\site-packages (from tqdm>=4.48.2->pandas-profiling) (5.4.0)\n",
      "Requirement already satisfied: six in c:\\users\\lea\\anaconda3\\envs\\tensorflow_cpu\\lib\\site-packages (from cycler>=0.10->matplotlib>=3.2.0->pandas-profiling) (1.13.0)\n",
      "Requirement already satisfied: setuptools in c:\\users\\lea\\anaconda3\\envs\\tensorflow_cpu\\lib\\site-packages (from kiwisolver>=1.0.1->matplotlib>=3.2.0->pandas-profiling) (41.6.0.post20191030)\n",
      "Requirement already satisfied: decorator<5,>=4.3 in c:\\users\\lea\\anaconda3\\envs\\tensorflow_cpu\\lib\\site-packages (from networkx>=2.4->visions[type_image_path]==0.7.4->pandas-profiling) (4.4.1)\n",
      "Requirement already satisfied: PyWavelets in c:\\users\\lea\\anaconda3\\envs\\tensorflow_cpu\\lib\\site-packages (from imagehash->visions[type_image_path]==0.7.4->pandas-profiling) (1.1.1)\n",
      "Requirement already satisfied: zipp>=3.1.0 in c:\\users\\lea\\anaconda3\\envs\\tensorflow_cpu\\lib\\site-packages (from importlib-resources->tqdm>=4.48.2->pandas-profiling) (3.6.0)\n",
      "Note: you may need to restart the kernel to use updated packages.\n"
     ]
    }
   ],
   "source": [
    "pip install pandas-profiling"
   ]
  },
  {
   "cell_type": "code",
   "execution_count": 20,
   "metadata": {
    "scrolled": true
   },
   "outputs": [
    {
     "name": "stdout",
     "output_type": "stream",
     "text": [
      "Requirement already satisfied: pip in c:\\users\\lea\\anaconda3\\envs\\tensorflow_cpu\\lib\\site-packages (21.3.1)\n",
      "Note: you may need to restart the kernel to use updated packages.\n"
     ]
    }
   ],
   "source": [
    "pip install --upgrade pip"
   ]
  },
  {
   "cell_type": "code",
   "execution_count": 3,
   "metadata": {
    "scrolled": true
   },
   "outputs": [
    {
     "name": "stdout",
     "output_type": "stream",
     "text": [
      "Collecting pandas-profiling\n",
      "  Using cached pandas_profiling-3.2.0-py2.py3-none-any.whl (262 kB)\n",
      "Requirement already satisfied: matplotlib>=3.2.0 in c:\\users\\lea\\anaconda3\\envs\\tensorflow_cpu\\lib\\site-packages (from pandas-profiling) (3.3.4)\n",
      "Requirement already satisfied: visions[type_image_path]==0.7.4 in c:\\users\\lea\\anaconda3\\envs\\tensorflow_cpu\\lib\\site-packages (from pandas-profiling) (0.7.4)\n",
      "Collecting joblib~=1.1.0\n",
      "  Using cached joblib-1.1.1-py2.py3-none-any.whl (309 kB)\n",
      "Collecting htmlmin>=0.1.12\n",
      "  Using cached htmlmin-0.1.12-py3-none-any.whl\n",
      "Collecting phik>=0.11.1\n",
      "  Using cached phik-0.12.0-cp36-cp36m-win_amd64.whl (660 kB)\n",
      "Collecting tqdm>=4.48.2\n",
      "  Using cached tqdm-4.64.1-py2.py3-none-any.whl (78 kB)\n",
      "Requirement already satisfied: seaborn>=0.10.1 in c:\\users\\lea\\anaconda3\\envs\\tensorflow_cpu\\lib\\site-packages (from pandas-profiling) (0.11.2)\n",
      "Requirement already satisfied: multimethod>=1.4 in c:\\users\\lea\\anaconda3\\envs\\tensorflow_cpu\\lib\\site-packages (from pandas-profiling) (1.5)\n",
      "Collecting missingno>=0.4.2\n",
      "  Using cached missingno-0.5.2-py3-none-any.whl (8.7 kB)\n",
      "Requirement already satisfied: pandas!=1.0.0,!=1.0.1,!=1.0.2,!=1.1.0,>=0.25.3 in c:\\users\\lea\\anaconda3\\envs\\tensorflow_cpu\\lib\\site-packages (from pandas-profiling) (0.25.3)\n",
      "Requirement already satisfied: scipy>=1.4.1 in c:\\users\\lea\\anaconda3\\envs\\tensorflow_cpu\\lib\\site-packages (from pandas-profiling) (1.5.4)\n",
      "Collecting pandas-profiling\n",
      "  Using cached pandas_profiling-3.1.0-py2.py3-none-any.whl (261 kB)\n",
      "Requirement already satisfied: markupsafe~=2.0.1 in c:\\users\\lea\\anaconda3\\envs\\tensorflow_cpu\\lib\\site-packages (from pandas-profiling) (2.0.1)\n",
      "Requirement already satisfied: tangled-up-in-unicode==0.1.0 in c:\\users\\lea\\anaconda3\\envs\\tensorflow_cpu\\lib\\site-packages (from pandas-profiling) (0.1.0)\n",
      "Collecting requests>=2.24.0\n",
      "  Using cached requests-2.27.1-py2.py3-none-any.whl (63 kB)\n",
      "Requirement already satisfied: PyYAML>=5.0.0 in c:\\users\\lea\\anaconda3\\envs\\tensorflow_cpu\\lib\\site-packages (from pandas-profiling) (5.1.2)\n",
      "Collecting jinja2>=2.11.1\n",
      "  Using cached Jinja2-3.0.3-py3-none-any.whl (133 kB)\n",
      "Collecting joblib~=1.0.1\n",
      "  Using cached joblib-1.0.1-py3-none-any.whl (303 kB)\n",
      "Collecting pydantic>=1.8.1\n",
      "  Using cached pydantic-1.9.2-cp36-cp36m-win_amd64.whl (2.1 MB)\n",
      "Requirement already satisfied: numpy>=1.16.0 in c:\\users\\lea\\anaconda3\\envs\\tensorflow_cpu\\lib\\site-packages (from pandas-profiling) (1.19.5)\n",
      "Requirement already satisfied: attrs>=19.3.0 in c:\\users\\lea\\anaconda3\\envs\\tensorflow_cpu\\lib\\site-packages (from visions[type_image_path]==0.7.4->pandas-profiling) (19.3.0)\n",
      "Requirement already satisfied: networkx>=2.4 in c:\\users\\lea\\anaconda3\\envs\\tensorflow_cpu\\lib\\site-packages (from visions[type_image_path]==0.7.4->pandas-profiling) (2.5.1)\n",
      "Requirement already satisfied: Pillow in c:\\users\\lea\\anaconda3\\envs\\tensorflow_cpu\\lib\\site-packages (from visions[type_image_path]==0.7.4->pandas-profiling) (8.4.0)\n",
      "Collecting imagehash\n",
      "  Using cached ImageHash-4.3.1-py2.py3-none-any.whl (296 kB)\n",
      "Requirement already satisfied: cycler>=0.10 in c:\\users\\lea\\anaconda3\\envs\\tensorflow_cpu\\lib\\site-packages (from matplotlib>=3.2.0->pandas-profiling) (0.10.0)\n",
      "Requirement already satisfied: python-dateutil>=2.1 in c:\\users\\lea\\anaconda3\\envs\\tensorflow_cpu\\lib\\site-packages (from matplotlib>=3.2.0->pandas-profiling) (2.8.1)\n",
      "Requirement already satisfied: pyparsing!=2.0.4,!=2.1.2,!=2.1.6,>=2.0.3 in c:\\users\\lea\\anaconda3\\envs\\tensorflow_cpu\\lib\\site-packages (from matplotlib>=3.2.0->pandas-profiling) (2.4.5)\n",
      "Requirement already satisfied: kiwisolver>=1.0.1 in c:\\users\\lea\\anaconda3\\envs\\tensorflow_cpu\\lib\\site-packages (from matplotlib>=3.2.0->pandas-profiling) (1.1.0)\n",
      "Requirement already satisfied: pytz>=2017.2 in c:\\users\\lea\\anaconda3\\envs\\tensorflow_cpu\\lib\\site-packages (from pandas!=1.0.0,!=1.0.1,!=1.0.2,!=1.1.0,>=0.25.3->pandas-profiling) (2019.3)\n",
      "Collecting dataclasses>=0.6\n",
      "  Using cached dataclasses-0.8-py3-none-any.whl (19 kB)\n",
      "Requirement already satisfied: typing-extensions>=3.7.4.3 in c:\\users\\lea\\anaconda3\\envs\\tensorflow_cpu\\lib\\site-packages (from pydantic>=1.8.1->pandas-profiling) (4.1.1)\n",
      "Collecting charset-normalizer~=2.0.0\n",
      "  Using cached charset_normalizer-2.0.12-py3-none-any.whl (39 kB)\n",
      "Collecting idna<4,>=2.5\n",
      "  Using cached idna-3.10-py3-none-any.whl (70 kB)\n",
      "Requirement already satisfied: certifi>=2017.4.17 in c:\\users\\lea\\anaconda3\\envs\\tensorflow_cpu\\lib\\site-packages (from requests>=2.24.0->pandas-profiling) (2019.11.28)\n",
      "Requirement already satisfied: urllib3<1.27,>=1.21.1 in c:\\users\\lea\\anaconda3\\envs\\tensorflow_cpu\\lib\\site-packages (from requests>=2.24.0->pandas-profiling) (1.26.20)\n",
      "Collecting importlib-resources\n",
      "  Using cached importlib_resources-5.4.0-py3-none-any.whl (28 kB)\n",
      "Requirement already satisfied: colorama in c:\\users\\lea\\anaconda3\\envs\\tensorflow_cpu\\lib\\site-packages (from tqdm>=4.48.2->pandas-profiling) (0.4.1)\n",
      "Requirement already satisfied: six in c:\\users\\lea\\anaconda3\\envs\\tensorflow_cpu\\lib\\site-packages (from cycler>=0.10->matplotlib>=3.2.0->pandas-profiling) (1.13.0)\n",
      "Requirement already satisfied: setuptools in c:\\users\\lea\\anaconda3\\envs\\tensorflow_cpu\\lib\\site-packages (from kiwisolver>=1.0.1->matplotlib>=3.2.0->pandas-profiling) (41.6.0.post20191030)\n",
      "Requirement already satisfied: decorator<5,>=4.3 in c:\\users\\lea\\anaconda3\\envs\\tensorflow_cpu\\lib\\site-packages (from networkx>=2.4->visions[type_image_path]==0.7.4->pandas-profiling) (4.4.1)\n",
      "Requirement already satisfied: PyWavelets in c:\\users\\lea\\anaconda3\\envs\\tensorflow_cpu\\lib\\site-packages (from imagehash->visions[type_image_path]==0.7.4->pandas-profiling) (1.1.1)\n",
      "Requirement already satisfied: zipp>=3.1.0 in c:\\users\\lea\\anaconda3\\envs\\tensorflow_cpu\\lib\\site-packages (from importlib-resources->tqdm>=4.48.2->pandas-profiling) (3.6.0)\n",
      "Installing collected packages: joblib, importlib-resources, imagehash, idna, dataclasses, charset-normalizer, tqdm, requests, pydantic, phik, missingno, jinja2, htmlmin, pandas-profiling\n",
      "  Attempting uninstall: joblib\n",
      "    Found existing installation: joblib 0.14.0\n",
      "    Uninstalling joblib-0.14.0:\n",
      "      Successfully uninstalled joblib-0.14.0\n",
      "  Attempting uninstall: jinja2\n",
      "    Found existing installation: Jinja2 2.10.3\n",
      "    Uninstalling Jinja2-2.10.3:\n",
      "      Successfully uninstalled Jinja2-2.10.3\n",
      "Successfully installed charset-normalizer-2.0.12 dataclasses-0.8 htmlmin-0.1.12 idna-3.10 imagehash-4.3.1 importlib-resources-5.4.0 jinja2-3.0.3 joblib-1.0.1 missingno-0.5.2 pandas-profiling-3.1.0 phik-0.12.0 pydantic-1.9.2 requests-2.27.1 tqdm-4.64.1\n"
     ]
    }
   ],
   "source": [
    "!pip install pandas-profiling"
   ]
  },
  {
   "cell_type": "code",
   "execution_count": null,
   "metadata": {},
   "outputs": [],
   "source": [
    "pip install --upgrade notebook"
   ]
  },
  {
   "cell_type": "code",
   "execution_count": 24,
   "metadata": {},
   "outputs": [
    {
     "name": "stdout",
     "output_type": "stream",
     "text": [
      "Collecting ipywidgets\n",
      "  Downloading ipywidgets-7.8.5-py2.py3-none-any.whl (124 kB)\n",
      "Collecting comm>=0.1.3\n",
      "  Downloading comm-0.1.4-py3-none-any.whl (6.6 kB)\n",
      "Collecting widgetsnbextension~=3.6.10\n",
      "  Downloading widgetsnbextension-3.6.10-py2.py3-none-any.whl (1.6 MB)\n",
      "Requirement already satisfied: traitlets>=4.3.1 in c:\\users\\lea\\anaconda3\\envs\\tensorflow_cpu\\lib\\site-packages (from ipywidgets) (4.3.3)\n",
      "Collecting jupyterlab-widgets<3,>=1.0.0\n",
      "  Downloading jupyterlab_widgets-1.1.11-py3-none-any.whl (246 kB)\n",
      "Requirement already satisfied: ipython>=4.0.0 in c:\\users\\lea\\anaconda3\\envs\\tensorflow_cpu\\lib\\site-packages (from ipywidgets) (7.9.0)\n",
      "Requirement already satisfied: ipython-genutils~=0.2.0 in c:\\users\\lea\\anaconda3\\envs\\tensorflow_cpu\\lib\\site-packages (from ipywidgets) (0.2.0)\n",
      "Requirement already satisfied: colorama in c:\\users\\lea\\anaconda3\\envs\\tensorflow_cpu\\lib\\site-packages (from ipython>=4.0.0->ipywidgets) (0.4.1)\n",
      "Requirement already satisfied: decorator in c:\\users\\lea\\anaconda3\\envs\\tensorflow_cpu\\lib\\site-packages (from ipython>=4.0.0->ipywidgets) (4.4.1)\n",
      "Requirement already satisfied: pickleshare in c:\\users\\lea\\anaconda3\\envs\\tensorflow_cpu\\lib\\site-packages (from ipython>=4.0.0->ipywidgets) (0.7.5)\n",
      "Requirement already satisfied: jedi>=0.10 in c:\\users\\lea\\anaconda3\\envs\\tensorflow_cpu\\lib\\site-packages (from ipython>=4.0.0->ipywidgets) (0.15.1)\n",
      "Requirement already satisfied: prompt-toolkit<2.1.0,>=2.0.0 in c:\\users\\lea\\anaconda3\\envs\\tensorflow_cpu\\lib\\site-packages (from ipython>=4.0.0->ipywidgets) (2.0.10)\n",
      "Requirement already satisfied: setuptools>=18.5 in c:\\users\\lea\\anaconda3\\envs\\tensorflow_cpu\\lib\\site-packages (from ipython>=4.0.0->ipywidgets) (41.6.0.post20191030)\n",
      "Requirement already satisfied: backcall in c:\\users\\lea\\anaconda3\\envs\\tensorflow_cpu\\lib\\site-packages (from ipython>=4.0.0->ipywidgets) (0.1.0)\n",
      "Requirement already satisfied: pygments in c:\\users\\lea\\anaconda3\\envs\\tensorflow_cpu\\lib\\site-packages (from ipython>=4.0.0->ipywidgets) (2.4.2)\n",
      "Requirement already satisfied: six in c:\\users\\lea\\anaconda3\\envs\\tensorflow_cpu\\lib\\site-packages (from traitlets>=4.3.1->ipywidgets) (1.13.0)\n",
      "Requirement already satisfied: notebook>=4.4.1 in c:\\users\\lea\\anaconda3\\envs\\tensorflow_cpu\\lib\\site-packages (from widgetsnbextension~=3.6.10->ipywidgets) (6.0.1)\n",
      "Requirement already satisfied: parso>=0.5.0 in c:\\users\\lea\\anaconda3\\envs\\tensorflow_cpu\\lib\\site-packages (from jedi>=0.10->ipython>=4.0.0->ipywidgets) (0.5.1)\n",
      "Requirement already satisfied: prometheus-client in c:\\users\\lea\\anaconda3\\envs\\tensorflow_cpu\\lib\\site-packages (from notebook>=4.4.1->widgetsnbextension~=3.6.10->ipywidgets) (0.7.1)\n",
      "Requirement already satisfied: jupyter-core>=4.4.0 in c:\\users\\lea\\anaconda3\\envs\\tensorflow_cpu\\lib\\site-packages (from notebook>=4.4.1->widgetsnbextension~=3.6.10->ipywidgets) (4.6.1)\n",
      "Requirement already satisfied: tornado>=5.0 in c:\\users\\lea\\anaconda3\\envs\\tensorflow_cpu\\lib\\site-packages (from notebook>=4.4.1->widgetsnbextension~=3.6.10->ipywidgets) (6.1)\n",
      "Requirement already satisfied: terminado>=0.8.1 in c:\\users\\lea\\anaconda3\\envs\\tensorflow_cpu\\lib\\site-packages (from notebook>=4.4.1->widgetsnbextension~=3.6.10->ipywidgets) (0.8.2)\n",
      "Requirement already satisfied: pyzmq>=17 in c:\\users\\lea\\anaconda3\\envs\\tensorflow_cpu\\lib\\site-packages (from notebook>=4.4.1->widgetsnbextension~=3.6.10->ipywidgets) (18.1.0)\n",
      "Requirement already satisfied: nbformat in c:\\users\\lea\\anaconda3\\envs\\tensorflow_cpu\\lib\\site-packages (from notebook>=4.4.1->widgetsnbextension~=3.6.10->ipywidgets) (4.4.0)\n",
      "Requirement already satisfied: jinja2 in c:\\users\\lea\\anaconda3\\envs\\tensorflow_cpu\\lib\\site-packages (from notebook>=4.4.1->widgetsnbextension~=3.6.10->ipywidgets) (3.0.3)\n",
      "Requirement already satisfied: ipykernel in c:\\users\\lea\\anaconda3\\envs\\tensorflow_cpu\\lib\\site-packages (from notebook>=4.4.1->widgetsnbextension~=3.6.10->ipywidgets) (5.1.3)\n",
      "Requirement already satisfied: Send2Trash in c:\\users\\lea\\anaconda3\\envs\\tensorflow_cpu\\lib\\site-packages (from notebook>=4.4.1->widgetsnbextension~=3.6.10->ipywidgets) (1.5.0)\n",
      "Requirement already satisfied: jupyter-client>=5.3.1 in c:\\users\\lea\\anaconda3\\envs\\tensorflow_cpu\\lib\\site-packages (from notebook>=4.4.1->widgetsnbextension~=3.6.10->ipywidgets) (5.3.4)\n",
      "Requirement already satisfied: nbconvert in c:\\users\\lea\\anaconda3\\envs\\tensorflow_cpu\\lib\\site-packages (from notebook>=4.4.1->widgetsnbextension~=3.6.10->ipywidgets) (5.6.1)\n",
      "Requirement already satisfied: wcwidth in c:\\users\\lea\\anaconda3\\envs\\tensorflow_cpu\\lib\\site-packages (from prompt-toolkit<2.1.0,>=2.0.0->ipython>=4.0.0->ipywidgets) (0.1.7)\n",
      "Requirement already satisfied: python-dateutil>=2.1 in c:\\users\\lea\\anaconda3\\envs\\tensorflow_cpu\\lib\\site-packages (from jupyter-client>=5.3.1->notebook>=4.4.1->widgetsnbextension~=3.6.10->ipywidgets) (2.8.1)\n",
      "Requirement already satisfied: pywin32>=1.0 in c:\\users\\lea\\anaconda3\\envs\\tensorflow_cpu\\lib\\site-packages (from jupyter-client>=5.3.1->notebook>=4.4.1->widgetsnbextension~=3.6.10->ipywidgets) (223)\n",
      "Requirement already satisfied: MarkupSafe>=2.0 in c:\\users\\lea\\anaconda3\\envs\\tensorflow_cpu\\lib\\site-packages (from jinja2->notebook>=4.4.1->widgetsnbextension~=3.6.10->ipywidgets) (2.0.1)\n",
      "Requirement already satisfied: entrypoints>=0.2.2 in c:\\users\\lea\\anaconda3\\envs\\tensorflow_cpu\\lib\\site-packages (from nbconvert->notebook>=4.4.1->widgetsnbextension~=3.6.10->ipywidgets) (0.3)\n",
      "Requirement already satisfied: mistune<2,>=0.8.1 in c:\\users\\lea\\anaconda3\\envs\\tensorflow_cpu\\lib\\site-packages (from nbconvert->notebook>=4.4.1->widgetsnbextension~=3.6.10->ipywidgets) (0.8.4)\n",
      "Requirement already satisfied: defusedxml in c:\\users\\lea\\anaconda3\\envs\\tensorflow_cpu\\lib\\site-packages (from nbconvert->notebook>=4.4.1->widgetsnbextension~=3.6.10->ipywidgets) (0.6.0)\n",
      "Requirement already satisfied: testpath in c:\\users\\lea\\anaconda3\\envs\\tensorflow_cpu\\lib\\site-packages (from nbconvert->notebook>=4.4.1->widgetsnbextension~=3.6.10->ipywidgets) (0.4.2)\n",
      "Requirement already satisfied: pandocfilters>=1.4.1 in c:\\users\\lea\\anaconda3\\envs\\tensorflow_cpu\\lib\\site-packages (from nbconvert->notebook>=4.4.1->widgetsnbextension~=3.6.10->ipywidgets) (1.4.2)\n",
      "Requirement already satisfied: bleach in c:\\users\\lea\\anaconda3\\envs\\tensorflow_cpu\\lib\\site-packages (from nbconvert->notebook>=4.4.1->widgetsnbextension~=3.6.10->ipywidgets) (3.1.0)\n",
      "Requirement already satisfied: jsonschema!=2.5.0,>=2.4 in c:\\users\\lea\\anaconda3\\envs\\tensorflow_cpu\\lib\\site-packages (from nbformat->notebook>=4.4.1->widgetsnbextension~=3.6.10->ipywidgets) (3.1.1)\n",
      "Requirement already satisfied: importlib-metadata in c:\\users\\lea\\anaconda3\\envs\\tensorflow_cpu\\lib\\site-packages (from jsonschema!=2.5.0,>=2.4->nbformat->notebook>=4.4.1->widgetsnbextension~=3.6.10->ipywidgets) (0.23)\n",
      "Requirement already satisfied: attrs>=17.4.0 in c:\\users\\lea\\anaconda3\\envs\\tensorflow_cpu\\lib\\site-packages (from jsonschema!=2.5.0,>=2.4->nbformat->notebook>=4.4.1->widgetsnbextension~=3.6.10->ipywidgets) (19.3.0)\n",
      "Requirement already satisfied: pyrsistent>=0.14.0 in c:\\users\\lea\\anaconda3\\envs\\tensorflow_cpu\\lib\\site-packages (from jsonschema!=2.5.0,>=2.4->nbformat->notebook>=4.4.1->widgetsnbextension~=3.6.10->ipywidgets) (0.15.4)\n",
      "Requirement already satisfied: webencodings in c:\\users\\lea\\anaconda3\\envs\\tensorflow_cpu\\lib\\site-packages (from bleach->nbconvert->notebook>=4.4.1->widgetsnbextension~=3.6.10->ipywidgets) (0.5.1)\n",
      "Requirement already satisfied: zipp>=0.5 in c:\\users\\lea\\anaconda3\\envs\\tensorflow_cpu\\lib\\site-packages (from importlib-metadata->jsonschema!=2.5.0,>=2.4->nbformat->notebook>=4.4.1->widgetsnbextension~=3.6.10->ipywidgets) (3.6.0)\n",
      "Installing collected packages: widgetsnbextension, jupyterlab-widgets, comm, ipywidgets\n",
      "Successfully installed comm-0.1.4 ipywidgets-7.8.5 jupyterlab-widgets-1.1.11 widgetsnbextension-3.6.10\n",
      "Note: you may need to restart the kernel to use updated packages.\n"
     ]
    }
   ],
   "source": [
    "pip install --upgrade ipywidgets"
   ]
  },
  {
   "cell_type": "code",
   "execution_count": 22,
   "metadata": {},
   "outputs": [
    {
     "data": {
      "application/vnd.jupyter.widget-view+json": {
       "model_id": "",
       "version_major": 2,
       "version_minor": 0
      },
      "text/plain": [
       "Summarize dataset:   0%|          | 0/5 [00:00<?, ?it/s]"
      ]
     },
     "metadata": {},
     "output_type": "display_data"
    },
    {
     "name": "stderr",
     "output_type": "stream",
     "text": [
      "C:\\Users\\Lea\\Anaconda3\\envs\\tensorflow_cpu\\lib\\site-packages\\pandas\\core\\strings.py:1387: FutureWarning: split() requires a non-empty pattern match.\n",
      "  f = lambda x: regex.split(x, maxsplit=n)\n"
     ]
    },
    {
     "data": {
      "application/vnd.jupyter.widget-view+json": {
       "model_id": "",
       "version_major": 2,
       "version_minor": 0
      },
      "text/plain": [
       "Generate report structure:   0%|          | 0/1 [00:00<?, ?it/s]"
      ]
     },
     "metadata": {},
     "output_type": "display_data"
    },
    {
     "data": {
      "application/vnd.jupyter.widget-view+json": {
       "model_id": "",
       "version_major": 2,
       "version_minor": 0
      },
      "text/plain": [
       "Render HTML:   0%|          | 0/1 [00:00<?, ?it/s]"
      ]
     },
     "metadata": {},
     "output_type": "display_data"
    },
    {
     "data": {
      "application/vnd.jupyter.widget-view+json": {
       "model_id": "",
       "version_major": 2,
       "version_minor": 0
      },
      "text/plain": [
       "Export report to file:   0%|          | 0/1 [00:00<?, ?it/s]"
      ]
     },
     "metadata": {},
     "output_type": "display_data"
    }
   ],
   "source": [
    "#Data Profiling with Pandas Profiling:\n",
    "\n",
    "from pandas_profiling import ProfileReport\n",
    "\n",
    "profile = ProfileReport(data, title=\"PaySim Data Profiling\", explorative=True)\n",
    "profile.to_file(\"paysim_profile.html\")\n"
   ]
  },
  {
   "cell_type": "code",
   "execution_count": null,
   "metadata": {},
   "outputs": [],
   "source": []
  }
 ],
 "metadata": {
  "kernelspec": {
   "display_name": "Python 3 (ipykernel)",
   "language": "python",
   "name": "python3"
  },
  "language_info": {
   "codemirror_mode": {
    "name": "ipython",
    "version": 3
   },
   "file_extension": ".py",
   "mimetype": "text/x-python",
   "name": "python",
   "nbconvert_exporter": "python",
   "pygments_lexer": "ipython3",
   "version": "3.12.7"
  }
 },
 "nbformat": 4,
 "nbformat_minor": 4
}
